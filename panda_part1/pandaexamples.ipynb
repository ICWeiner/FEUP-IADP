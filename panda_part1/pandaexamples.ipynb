{
 "cells": [
  {
   "cell_type": "code",
   "execution_count": 1,
   "id": "1fb32535",
   "metadata": {},
   "outputs": [],
   "source": [
    "import numpy as np\n",
    "import pandas as pd\n",
    "\n"
   ]
  },
  {
   "cell_type": "code",
   "execution_count": 3,
   "id": "5aa3d487",
   "metadata": {},
   "outputs": [
    {
     "data": {
      "text/plain": [
       "0    antonio\n",
       "1      joana\n",
       "2     carlos\n",
       "3    barbara\n",
       "dtype: object"
      ]
     },
     "execution_count": 3,
     "metadata": {},
     "output_type": "execute_result"
    }
   ],
   "source": [
    "s1 = pd.Series(['antonio','joana','carlos','barbara'])\n",
    "s1"
   ]
  },
  {
   "cell_type": "code",
   "execution_count": 4,
   "id": "1d469185",
   "metadata": {},
   "outputs": [
    {
     "data": {
      "text/plain": [
       "RangeIndex(start=0, stop=4, step=1)"
      ]
     },
     "execution_count": 4,
     "metadata": {},
     "output_type": "execute_result"
    }
   ],
   "source": [
    "s1.index"
   ]
  },
  {
   "cell_type": "code",
   "execution_count": 15,
   "id": "088eef99",
   "metadata": {},
   "outputs": [
    {
     "data": {
      "text/plain": [
       "a   -0.077045\n",
       "b    0.167650\n",
       "c   -0.040648\n",
       "d    1.348417\n",
       "dtype: float64"
      ]
     },
     "execution_count": 15,
     "metadata": {},
     "output_type": "execute_result"
    }
   ],
   "source": [
    "s2 = pd.Series(np.random.randn(4),index=[\"a\",\"b\",\"c\",\"d\"])\n",
    "s2"
   ]
  },
  {
   "cell_type": "code",
   "execution_count": 16,
   "id": "a53ea655",
   "metadata": {},
   "outputs": [
    {
     "data": {
      "text/plain": [
       "Index(['a', 'b', 'c', 'd'], dtype='object')"
      ]
     },
     "execution_count": 16,
     "metadata": {},
     "output_type": "execute_result"
    }
   ],
   "source": [
    "s2.index"
   ]
  },
  {
   "cell_type": "code",
   "execution_count": 17,
   "id": "3a847238",
   "metadata": {},
   "outputs": [
    {
     "data": {
      "text/plain": [
       "b    20\n",
       "a    30\n",
       "c    15\n",
       "dtype: int64"
      ]
     },
     "execution_count": 17,
     "metadata": {},
     "output_type": "execute_result"
    }
   ],
   "source": [
    "s3 = pd.Series({'b':20,'a':30,'c':15})\n",
    "s3"
   ]
  },
  {
   "cell_type": "code",
   "execution_count": 20,
   "id": "83ada7cd",
   "metadata": {},
   "outputs": [
    {
     "data": {
      "text/plain": [
       "b    20.0\n",
       "c    30.0\n",
       "d     NaN\n",
       "a    10.0\n",
       "dtype: float64"
      ]
     },
     "execution_count": 20,
     "metadata": {},
     "output_type": "execute_result"
    }
   ],
   "source": [
    "d={'a':10,'b':20,'c':30}\n",
    "s4 = pd.Series(d,index =[\"b\",\"c\",\"d\",\"a\"])\n",
    "s4"
   ]
  },
  {
   "cell_type": "code",
   "execution_count": 23,
   "id": "e9fff660",
   "metadata": {},
   "outputs": [
    {
     "data": {
      "text/plain": [
       "a    5\n",
       "b    5\n",
       "c    5\n",
       "dtype: int64"
      ]
     },
     "execution_count": 23,
     "metadata": {},
     "output_type": "execute_result"
    }
   ],
   "source": [
    "s5 = pd.Series(5,index = ['a','b','c'])\n",
    "s5"
   ]
  },
  {
   "cell_type": "code",
   "execution_count": 24,
   "id": "920f774a",
   "metadata": {},
   "outputs": [
    {
     "data": {
      "text/plain": [
       "-0.07704499096050967"
      ]
     },
     "execution_count": 24,
     "metadata": {},
     "output_type": "execute_result"
    }
   ],
   "source": [
    "s2[0]"
   ]
  },
  {
   "cell_type": "code",
   "execution_count": 26,
   "id": "3fa2a676",
   "metadata": {},
   "outputs": [
    {
     "data": {
      "text/plain": [
       "a   -0.077045\n",
       "dtype: float64"
      ]
     },
     "execution_count": 26,
     "metadata": {},
     "output_type": "execute_result"
    }
   ],
   "source": [
    "s2[:1]"
   ]
  },
  {
   "cell_type": "code",
   "execution_count": 29,
   "id": "37b036ff",
   "metadata": {},
   "outputs": [
    {
     "data": {
      "text/plain": [
       "d    1.348417\n",
       "dtype: float64"
      ]
     },
     "execution_count": 29,
     "metadata": {},
     "output_type": "execute_result"
    }
   ],
   "source": [
    "s2[s2 > s2.mean()]"
   ]
  },
  {
   "cell_type": "code",
   "execution_count": 30,
   "id": "768d0d97",
   "metadata": {},
   "outputs": [
    {
     "data": {
      "text/plain": [
       "0.34959362159687873"
      ]
     },
     "execution_count": 30,
     "metadata": {},
     "output_type": "execute_result"
    }
   ],
   "source": [
    "s2.mean()"
   ]
  },
  {
   "cell_type": "code",
   "execution_count": 32,
   "id": "40df400e",
   "metadata": {},
   "outputs": [
    {
     "data": {
      "text/plain": [
       "a    False\n",
       "b    False\n",
       "c    False\n",
       "d     True\n",
       "dtype: bool"
      ]
     },
     "execution_count": 32,
     "metadata": {},
     "output_type": "execute_result"
    }
   ],
   "source": [
    "s2 >s2.mean()"
   ]
  },
  {
   "cell_type": "code",
   "execution_count": 33,
   "id": "c59585d4",
   "metadata": {},
   "outputs": [
    {
     "data": {
      "text/plain": [
       "d    1.348417\n",
       "a   -0.077045\n",
       "b    0.167650\n",
       "dtype: float64"
      ]
     },
     "execution_count": 33,
     "metadata": {},
     "output_type": "execute_result"
    }
   ],
   "source": [
    "s2[[3,0,1]]"
   ]
  },
  {
   "cell_type": "code",
   "execution_count": 38,
   "id": "bc2e95e1",
   "metadata": {},
   "outputs": [
    {
     "data": {
      "text/plain": [
       "a    0.925848\n",
       "b    1.182522\n",
       "c    0.960167\n",
       "d    3.851326\n",
       "dtype: float64"
      ]
     },
     "execution_count": 38,
     "metadata": {},
     "output_type": "execute_result"
    }
   ],
   "source": [
    "np.exp(s2)"
   ]
  },
  {
   "cell_type": "code",
   "execution_count": 40,
   "id": "b98f8ae5",
   "metadata": {},
   "outputs": [
    {
     "data": {
      "text/plain": [
       "dtype('float64')"
      ]
     },
     "execution_count": 40,
     "metadata": {},
     "output_type": "execute_result"
    }
   ],
   "source": [
    "s2.dtype"
   ]
  },
  {
   "cell_type": "code",
   "execution_count": 42,
   "id": "737e6056",
   "metadata": {},
   "outputs": [
    {
     "data": {
      "text/plain": [
       "<PandasArray>\n",
       "[ -0.07704499096050967,   0.16764973779962764, -0.040647656925057674,\n",
       "    1.3484173964734547]\n",
       "Length: 4, dtype: float64"
      ]
     },
     "execution_count": 42,
     "metadata": {},
     "output_type": "execute_result"
    }
   ],
   "source": [
    "s2.array"
   ]
  },
  {
   "cell_type": "code",
   "execution_count": 44,
   "id": "c4fcbfdb",
   "metadata": {},
   "outputs": [
    {
     "data": {
      "text/plain": [
       "array([-0.07704499,  0.16764974, -0.04064766,  1.3484174 ])"
      ]
     },
     "execution_count": 44,
     "metadata": {},
     "output_type": "execute_result"
    }
   ],
   "source": [
    "s2.to_numpy()"
   ]
  },
  {
   "cell_type": "code",
   "execution_count": 45,
   "id": "235effda",
   "metadata": {},
   "outputs": [
    {
     "data": {
      "text/plain": [
       "-0.07704499096050967"
      ]
     },
     "execution_count": 45,
     "metadata": {},
     "output_type": "execute_result"
    }
   ],
   "source": [
    "s2[\"a\"]"
   ]
  },
  {
   "cell_type": "code",
   "execution_count": 46,
   "id": "26788d8f",
   "metadata": {},
   "outputs": [
    {
     "data": {
      "text/plain": [
       "-0.07704499096050967"
      ]
     },
     "execution_count": 46,
     "metadata": {},
     "output_type": "execute_result"
    }
   ],
   "source": [
    "s2[0]"
   ]
  },
  {
   "cell_type": "code",
   "execution_count": 47,
   "id": "27d194e6",
   "metadata": {},
   "outputs": [],
   "source": [
    "s2[\"b\"] = 20"
   ]
  },
  {
   "cell_type": "code",
   "execution_count": 48,
   "id": "bc977ca6",
   "metadata": {},
   "outputs": [
    {
     "data": {
      "text/plain": [
       "a    -0.077045\n",
       "b    20.000000\n",
       "c    -0.040648\n",
       "d     1.348417\n",
       "dtype: float64"
      ]
     },
     "execution_count": 48,
     "metadata": {},
     "output_type": "execute_result"
    }
   ],
   "source": [
    "s2"
   ]
  },
  {
   "cell_type": "code",
   "execution_count": 49,
   "id": "4b904025",
   "metadata": {},
   "outputs": [
    {
     "data": {
      "text/plain": [
       "True"
      ]
     },
     "execution_count": 49,
     "metadata": {},
     "output_type": "execute_result"
    }
   ],
   "source": [
    "\"c\" in s2"
   ]
  },
  {
   "cell_type": "code",
   "execution_count": 50,
   "id": "7e8cceb2",
   "metadata": {},
   "outputs": [
    {
     "data": {
      "text/plain": [
       "a          NaN\n",
       "b    40.000000\n",
       "c    -0.081295\n",
       "d          NaN\n",
       "dtype: float64"
      ]
     },
     "execution_count": 50,
     "metadata": {},
     "output_type": "execute_result"
    }
   ],
   "source": [
    "s2[1:] + s2[:-1]"
   ]
  },
  {
   "cell_type": "code",
   "execution_count": 52,
   "id": "2a2618a5",
   "metadata": {},
   "outputs": [
    {
     "data": {
      "text/plain": [
       "0    1.779155\n",
       "1    0.106913\n",
       "2    1.213940\n",
       "3   -0.416567\n",
       "Name: something, dtype: float64"
      ]
     },
     "execution_count": 52,
     "metadata": {},
     "output_type": "execute_result"
    }
   ],
   "source": [
    "s6 = pd.Series(np.random.randn(4),name = \"something\")\n",
    "s6"
   ]
  },
  {
   "cell_type": "code",
   "execution_count": 53,
   "id": "9ac30736",
   "metadata": {},
   "outputs": [
    {
     "data": {
      "text/plain": [
       "'something'"
      ]
     },
     "execution_count": 53,
     "metadata": {},
     "output_type": "execute_result"
    }
   ],
   "source": [
    "s6.name"
   ]
  },
  {
   "cell_type": "code",
   "execution_count": 54,
   "id": "bbc9dc25",
   "metadata": {},
   "outputs": [
    {
     "data": {
      "text/plain": [
       "0    1.779155\n",
       "1    0.106913\n",
       "2    1.213940\n",
       "3   -0.416567\n",
       "Name: different, dtype: float64"
      ]
     },
     "execution_count": 54,
     "metadata": {},
     "output_type": "execute_result"
    }
   ],
   "source": [
    "s6.rename(\"different\",inplace=True)"
   ]
  },
  {
   "cell_type": "code",
   "execution_count": 55,
   "id": "6604ea93",
   "metadata": {},
   "outputs": [
    {
     "data": {
      "text/plain": [
       "'different'"
      ]
     },
     "execution_count": 55,
     "metadata": {},
     "output_type": "execute_result"
    }
   ],
   "source": [
    "s6.name"
   ]
  },
  {
   "cell_type": "code",
   "execution_count": null,
   "id": "b68ae9ec",
   "metadata": {},
   "outputs": [],
   "source": []
  }
 ],
 "metadata": {
  "kernelspec": {
   "display_name": "Python 3 (ipykernel)",
   "language": "python",
   "name": "python3"
  },
  "language_info": {
   "codemirror_mode": {
    "name": "ipython",
    "version": 3
   },
   "file_extension": ".py",
   "mimetype": "text/x-python",
   "name": "python",
   "nbconvert_exporter": "python",
   "pygments_lexer": "ipython3",
   "version": "3.9.12"
  }
 },
 "nbformat": 4,
 "nbformat_minor": 5
}
