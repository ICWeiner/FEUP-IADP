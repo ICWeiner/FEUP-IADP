{
 "cells": [
  {
   "cell_type": "code",
   "execution_count": 83,
   "id": "b97cfc81",
   "metadata": {},
   "outputs": [],
   "source": [
    "import pandas as pd\n",
    "df = pd.read_csv('usa_real_estate1.csv', sep=';',parse_dates=['sold_date'])\n"
   ]
  },
  {
   "cell_type": "code",
   "execution_count": 11,
   "id": "14a194da",
   "metadata": {},
   "outputs": [
    {
     "name": "stdout",
     "output_type": "stream",
     "text": [
      "    price           city  house_size\n",
      "2   67000     Juana Diaz       748.0\n",
      "3  145000          Ponce      1800.0\n",
      "4   65000       Mayaguez         NaN\n",
      "5  179000  San Sebastian      2520.0\n"
     ]
    }
   ],
   "source": [
    "#Print the values from columns 'price', 'city' and 'house_size from rows 2 to 5.\n",
    "def solve():\n",
    "    df2 = df.loc[2:5]\n",
    "    print(df[['price','city','house_size']].loc[2:5])\n",
    "\n",
    "solve()"
   ]
  },
  {
   "cell_type": "code",
   "execution_count": 25,
   "id": "fa726041",
   "metadata": {},
   "outputs": [
    {
     "name": "stdout",
     "output_type": "stream",
     "text": [
      "     status   price        city        state  zip_code  house_size sold_date\n",
      "0  for_sale  105000    Adjuntas  Puerto Rico     601.0       920.0       NaT\n",
      "1  for_sale   80000    Adjuntas  Puerto Rico     601.0      1527.0       NaT\n",
      "2  for_sale   67000  Juana Diaz  Puerto Rico     795.0       748.0       NaT\n"
     ]
    }
   ],
   "source": [
    "#Delete the columns 'bed' to 'acre_lot'.\n",
    "def solve():\n",
    "    df.drop(columns=['bed','bath','acre_lot'],inplace =True)\n",
    "    print(df.loc[0:2])\n",
    "\n",
    "solve()"
   ]
  },
  {
   "cell_type": "code",
   "execution_count": 27,
   "id": "9fe13b63",
   "metadata": {},
   "outputs": [],
   "source": [
    "#Change in row 2 the 'status' to 'sold' and the 'price' to 60000.\n",
    "def solve():\n",
    "    df.loc[2,'status']='sold'\n",
    "    df.loc[2,'price']='60000'\n",
    "    \n",
    "\n",
    "solve()"
   ]
  },
  {
   "cell_type": "code",
   "execution_count": 97,
   "id": "1c6c3d05",
   "metadata": {},
   "outputs": [
    {
     "name": "stdout",
     "output_type": "stream",
     "text": [
      "28.9\n"
     ]
    }
   ],
   "source": [
    "#What is the percentage of houses with a 'house_size' greater than 2000. (rounded to one decimal place)\n",
    "def solve():\n",
    "    #print(df['house_size'].value_counts().astype(float).div(len(df))*100)\n",
    "    print(round(df[df['house_size']>2000].index.values.size/len(df)*100,1))\n",
    "    \n",
    "\n",
    "solve()"
   ]
  },
  {
   "cell_type": "code",
   "execution_count": 31,
   "id": "98d75c61",
   "metadata": {},
   "outputs": [
    {
     "name": "stdout",
     "output_type": "stream",
     "text": [
      "count    7.487000e+03\n",
      "mean     2.432521e+03\n",
      "std      1.689467e+04\n",
      "min      1.000000e+02\n",
      "25%      1.204500e+03\n",
      "50%      1.720000e+03\n",
      "75%      2.600000e+03\n",
      "max      1.450112e+06\n",
      "Name: house_size, dtype: float64\n"
     ]
    }
   ],
   "source": [
    "#Calculate the summary statistics for the column 'house_size'.\n",
    "def solve():\n",
    "    print(df['house_size'].describe())\n",
    "    \n",
    "\n",
    "solve()"
   ]
  },
  {
   "cell_type": "code",
   "execution_count": 35,
   "id": "e9ba3016",
   "metadata": {},
   "outputs": [],
   "source": [
    "#Delete the rows where the 'price' is greater than 800000.\n",
    "def solve():\n",
    "    df.drop(df[df['price'] > 800000].index, inplace=True)\n",
    "    \n",
    "    \n",
    "\n",
    "solve()"
   ]
  },
  {
   "cell_type": "code",
   "execution_count": 38,
   "id": "0d78ba8f",
   "metadata": {},
   "outputs": [
    {
     "name": "stdout",
     "output_type": "stream",
     "text": [
      "              city           state  zip_code  house_size\n",
      "42            Moca     Puerto Rico     676.0     43082.0\n",
      "2241       Culebra     Puerto Rico     775.0   1450112.0\n",
      "2898  Frederiksted  Virgin Islands     840.0     49658.0\n",
      "9045    Middletown     Connecticut    6457.0     99999.0\n"
     ]
    }
   ],
   "source": [
    "#Print the columns 'city' to 'house_size' of the rows where the 'house_size' is greater than 40000.\n",
    "def solve():\n",
    "    print(df.loc[df['house_size']>40000,['city','state','zip_code','house_size']])\n",
    "    \n",
    "    \n",
    "\n",
    "solve()"
   ]
  },
  {
   "cell_type": "code",
   "execution_count": 59,
   "id": "e7437e4d",
   "metadata": {
    "scrolled": true
   },
   "outputs": [
    {
     "ename": "IndexingError",
     "evalue": "Too many indexers",
     "output_type": "error",
     "traceback": [
      "\u001b[0;31m---------------------------------------------------------------------------\u001b[0m",
      "\u001b[0;31mIndexingError\u001b[0m                             Traceback (most recent call last)",
      "\u001b[0;32m/tmp/ipykernel_6032/1223135487.py\u001b[0m in \u001b[0;36m<module>\u001b[0;34m\u001b[0m\n\u001b[1;32m      4\u001b[0m \u001b[0;34m\u001b[0m\u001b[0m\n\u001b[1;32m      5\u001b[0m \u001b[0;34m\u001b[0m\u001b[0m\n\u001b[0;32m----> 6\u001b[0;31m \u001b[0msolve\u001b[0m\u001b[0;34m(\u001b[0m\u001b[0;34m)\u001b[0m\u001b[0;34m\u001b[0m\u001b[0;34m\u001b[0m\u001b[0m\n\u001b[0m",
      "\u001b[0;32m/tmp/ipykernel_6032/1223135487.py\u001b[0m in \u001b[0;36msolve\u001b[0;34m()\u001b[0m\n\u001b[1;32m      1\u001b[0m \u001b[0;31m#What is the 'city' with the house with the highest 'price' (first occurrence).\u001b[0m\u001b[0;34m\u001b[0m\u001b[0;34m\u001b[0m\u001b[0m\n\u001b[1;32m      2\u001b[0m \u001b[0;32mdef\u001b[0m \u001b[0msolve\u001b[0m\u001b[0;34m(\u001b[0m\u001b[0;34m)\u001b[0m\u001b[0;34m:\u001b[0m\u001b[0;34m\u001b[0m\u001b[0;34m\u001b[0m\u001b[0m\n\u001b[0;32m----> 3\u001b[0;31m     \u001b[0mprint\u001b[0m\u001b[0;34m(\u001b[0m\u001b[0mdf\u001b[0m\u001b[0;34m.\u001b[0m\u001b[0mloc\u001b[0m\u001b[0;34m[\u001b[0m\u001b[0;36m0\u001b[0m\u001b[0;34m,\u001b[0m\u001b[0mdf\u001b[0m\u001b[0;34m[\u001b[0m\u001b[0;34m'price'\u001b[0m\u001b[0;34m]\u001b[0m \u001b[0;34m==\u001b[0m \u001b[0mdf\u001b[0m\u001b[0;34m[\u001b[0m\u001b[0;34m'price'\u001b[0m\u001b[0;34m]\u001b[0m\u001b[0;34m.\u001b[0m\u001b[0mmax\u001b[0m\u001b[0;34m(\u001b[0m\u001b[0;34m)\u001b[0m\u001b[0;34m,\u001b[0m\u001b[0;34m'city'\u001b[0m\u001b[0;34m]\u001b[0m\u001b[0;34m.\u001b[0m\u001b[0mvalues\u001b[0m\u001b[0;34m[\u001b[0m\u001b[0;36m0\u001b[0m\u001b[0;34m]\u001b[0m\u001b[0;34m)\u001b[0m\u001b[0;34m\u001b[0m\u001b[0;34m\u001b[0m\u001b[0m\n\u001b[0m\u001b[1;32m      4\u001b[0m \u001b[0;34m\u001b[0m\u001b[0m\n\u001b[1;32m      5\u001b[0m \u001b[0;34m\u001b[0m\u001b[0m\n",
      "\u001b[0;32m~/anaconda3/lib/python3.9/site-packages/pandas/core/indexing.py\u001b[0m in \u001b[0;36m__getitem__\u001b[0;34m(self, key)\u001b[0m\n\u001b[1;32m    959\u001b[0m             \u001b[0;32mif\u001b[0m \u001b[0mself\u001b[0m\u001b[0;34m.\u001b[0m\u001b[0m_is_scalar_access\u001b[0m\u001b[0;34m(\u001b[0m\u001b[0mkey\u001b[0m\u001b[0;34m)\u001b[0m\u001b[0;34m:\u001b[0m\u001b[0;34m\u001b[0m\u001b[0;34m\u001b[0m\u001b[0m\n\u001b[1;32m    960\u001b[0m                 \u001b[0;32mreturn\u001b[0m \u001b[0mself\u001b[0m\u001b[0;34m.\u001b[0m\u001b[0mobj\u001b[0m\u001b[0;34m.\u001b[0m\u001b[0m_get_value\u001b[0m\u001b[0;34m(\u001b[0m\u001b[0;34m*\u001b[0m\u001b[0mkey\u001b[0m\u001b[0;34m,\u001b[0m \u001b[0mtakeable\u001b[0m\u001b[0;34m=\u001b[0m\u001b[0mself\u001b[0m\u001b[0;34m.\u001b[0m\u001b[0m_takeable\u001b[0m\u001b[0;34m)\u001b[0m\u001b[0;34m\u001b[0m\u001b[0;34m\u001b[0m\u001b[0m\n\u001b[0;32m--> 961\u001b[0;31m             \u001b[0;32mreturn\u001b[0m \u001b[0mself\u001b[0m\u001b[0;34m.\u001b[0m\u001b[0m_getitem_tuple\u001b[0m\u001b[0;34m(\u001b[0m\u001b[0mkey\u001b[0m\u001b[0;34m)\u001b[0m\u001b[0;34m\u001b[0m\u001b[0;34m\u001b[0m\u001b[0m\n\u001b[0m\u001b[1;32m    962\u001b[0m         \u001b[0;32melse\u001b[0m\u001b[0;34m:\u001b[0m\u001b[0;34m\u001b[0m\u001b[0;34m\u001b[0m\u001b[0m\n\u001b[1;32m    963\u001b[0m             \u001b[0;31m# we by definition only have the 0th axis\u001b[0m\u001b[0;34m\u001b[0m\u001b[0;34m\u001b[0m\u001b[0m\n",
      "\u001b[0;32m~/anaconda3/lib/python3.9/site-packages/pandas/core/indexing.py\u001b[0m in \u001b[0;36m_getitem_tuple\u001b[0;34m(self, tup)\u001b[0m\n\u001b[1;32m   1141\u001b[0m \u001b[0;34m\u001b[0m\u001b[0m\n\u001b[1;32m   1142\u001b[0m         \u001b[0;31m# no multi-index, so validate all of the indexers\u001b[0m\u001b[0;34m\u001b[0m\u001b[0;34m\u001b[0m\u001b[0m\n\u001b[0;32m-> 1143\u001b[0;31m         \u001b[0mtup\u001b[0m \u001b[0;34m=\u001b[0m \u001b[0mself\u001b[0m\u001b[0;34m.\u001b[0m\u001b[0m_validate_tuple_indexer\u001b[0m\u001b[0;34m(\u001b[0m\u001b[0mtup\u001b[0m\u001b[0;34m)\u001b[0m\u001b[0;34m\u001b[0m\u001b[0;34m\u001b[0m\u001b[0m\n\u001b[0m\u001b[1;32m   1144\u001b[0m \u001b[0;34m\u001b[0m\u001b[0m\n\u001b[1;32m   1145\u001b[0m         \u001b[0;31m# ugly hack for GH #836\u001b[0m\u001b[0;34m\u001b[0m\u001b[0;34m\u001b[0m\u001b[0m\n",
      "\u001b[0;32m~/anaconda3/lib/python3.9/site-packages/pandas/core/indexing.py\u001b[0m in \u001b[0;36m_validate_tuple_indexer\u001b[0;34m(self, key)\u001b[0m\n\u001b[1;32m    763\u001b[0m         \u001b[0mCheck\u001b[0m \u001b[0mthe\u001b[0m \u001b[0mkey\u001b[0m \u001b[0;32mfor\u001b[0m \u001b[0mvalid\u001b[0m \u001b[0mkeys\u001b[0m \u001b[0macross\u001b[0m \u001b[0mmy\u001b[0m \u001b[0mindexer\u001b[0m\u001b[0;34m.\u001b[0m\u001b[0;34m\u001b[0m\u001b[0;34m\u001b[0m\u001b[0m\n\u001b[1;32m    764\u001b[0m         \"\"\"\n\u001b[0;32m--> 765\u001b[0;31m         \u001b[0mkey\u001b[0m \u001b[0;34m=\u001b[0m \u001b[0mself\u001b[0m\u001b[0;34m.\u001b[0m\u001b[0m_validate_key_length\u001b[0m\u001b[0;34m(\u001b[0m\u001b[0mkey\u001b[0m\u001b[0;34m)\u001b[0m\u001b[0;34m\u001b[0m\u001b[0;34m\u001b[0m\u001b[0m\n\u001b[0m\u001b[1;32m    766\u001b[0m         \u001b[0mkey\u001b[0m \u001b[0;34m=\u001b[0m \u001b[0mself\u001b[0m\u001b[0;34m.\u001b[0m\u001b[0m_expand_ellipsis\u001b[0m\u001b[0;34m(\u001b[0m\u001b[0mkey\u001b[0m\u001b[0;34m)\u001b[0m\u001b[0;34m\u001b[0m\u001b[0;34m\u001b[0m\u001b[0m\n\u001b[1;32m    767\u001b[0m         \u001b[0;32mfor\u001b[0m \u001b[0mi\u001b[0m\u001b[0;34m,\u001b[0m \u001b[0mk\u001b[0m \u001b[0;32min\u001b[0m \u001b[0menumerate\u001b[0m\u001b[0;34m(\u001b[0m\u001b[0mkey\u001b[0m\u001b[0;34m)\u001b[0m\u001b[0;34m:\u001b[0m\u001b[0;34m\u001b[0m\u001b[0;34m\u001b[0m\u001b[0m\n",
      "\u001b[0;32m~/anaconda3/lib/python3.9/site-packages/pandas/core/indexing.py\u001b[0m in \u001b[0;36m_validate_key_length\u001b[0;34m(self, key)\u001b[0m\n\u001b[1;32m    810\u001b[0m                     \u001b[0;32mraise\u001b[0m \u001b[0mIndexingError\u001b[0m\u001b[0;34m(\u001b[0m\u001b[0m_one_ellipsis_message\u001b[0m\u001b[0;34m)\u001b[0m\u001b[0;34m\u001b[0m\u001b[0;34m\u001b[0m\u001b[0m\n\u001b[1;32m    811\u001b[0m                 \u001b[0;32mreturn\u001b[0m \u001b[0mself\u001b[0m\u001b[0;34m.\u001b[0m\u001b[0m_validate_key_length\u001b[0m\u001b[0;34m(\u001b[0m\u001b[0mkey\u001b[0m\u001b[0;34m)\u001b[0m\u001b[0;34m\u001b[0m\u001b[0;34m\u001b[0m\u001b[0m\n\u001b[0;32m--> 812\u001b[0;31m             \u001b[0;32mraise\u001b[0m \u001b[0mIndexingError\u001b[0m\u001b[0;34m(\u001b[0m\u001b[0;34m\"Too many indexers\"\u001b[0m\u001b[0;34m)\u001b[0m\u001b[0;34m\u001b[0m\u001b[0;34m\u001b[0m\u001b[0m\n\u001b[0m\u001b[1;32m    813\u001b[0m         \u001b[0;32mreturn\u001b[0m \u001b[0mkey\u001b[0m\u001b[0;34m\u001b[0m\u001b[0;34m\u001b[0m\u001b[0m\n\u001b[1;32m    814\u001b[0m \u001b[0;34m\u001b[0m\u001b[0m\n",
      "\u001b[0;31mIndexingError\u001b[0m: Too many indexers"
     ]
    }
   ],
   "source": [
    "#What is the 'city' with the house with the highest 'price' (first occurrence).\n",
    "def solve():\n",
    "    print(df.loc[df['price'] == df['price'].max(),'city'].values[0])\n",
    "    \n",
    "\n",
    "solve()"
   ]
  },
  {
   "cell_type": "code",
   "execution_count": 68,
   "id": "e19035b9",
   "metadata": {},
   "outputs": [
    {
     "name": "stdout",
     "output_type": "stream",
     "text": [
      "        status    price  bed  bath  acre_lot         city          state  \\\n",
      "8176  for_sale  2500000  NaN   NaN      1.34  Stockbridge  Massachusetts   \n",
      "\n",
      "      zip_code  house_size sold_date  \n",
      "8176    1262.0       500.0       NaT  \n",
      "(10315, 10)\n"
     ]
    }
   ],
   "source": [
    "#Print the rows where the 'price' is greater than 2000000 and the 'house_size' is less or equal than 1000.\n",
    "def solve():\n",
    "    print(df.loc[(df['price'] > 2000000) & (df['house_size'] <=  1000)])\n",
    "    #print(df.shape)\n",
    "    \n",
    "\n",
    "solve()"
   ]
  },
  {
   "cell_type": "code",
   "execution_count": 78,
   "id": "9c106c0b",
   "metadata": {},
   "outputs": [
    {
     "name": "stdout",
     "output_type": "stream",
     "text": [
      "                             price\n",
      "state          status             \n",
      "Connecticut    for_sale   427973.5\n",
      "               sold       409905.1\n",
      "Massachusetts  for_sale   345654.1\n",
      "               sold       450403.9\n",
      "New Hampshire  for_sale   318908.7\n",
      "               sold       154112.9\n",
      "New Jersey     for_sale   333490.0\n",
      "New York       for_sale   556409.1\n",
      "               sold       817443.7\n",
      "Puerto Rico    for_sale   678351.3\n",
      "               sold       428471.4\n",
      "South Carolina for_sale    18950.0\n",
      "Vermont        for_sale   321860.0\n",
      "               sold       303546.2\n",
      "Virgin Islands for_sale   828440.9\n",
      "               sold      1646800.0\n",
      "All                       520209.4\n"
     ]
    }
   ],
   "source": [
    "#Find the average 'price' by 'state' and 'status' (rounded to one decimal place).\n",
    "def solve():\n",
    "    print(df.pivot_table(index='state',values='price',aggfunc='mean').round(1))\n",
    "\n",
    "    \n",
    "\n",
    "solve()"
   ]
  },
  {
   "cell_type": "code",
   "execution_count": 86,
   "id": "b52af2a7",
   "metadata": {},
   "outputs": [
    {
     "name": "stdout",
     "output_type": "stream",
     "text": [
      "small         3507\n",
      "medium        1620\n",
      "large         1031\n",
      "very_small     947\n",
      "very_large     316\n",
      "Name: house_size, dtype: int64\n"
     ]
    }
   ],
   "source": [
    "#Calculate the number of houses in each of the following 'house_size' classes:\n",
    "\n",
    "def solve():\n",
    "    df1 = df['house_size']\n",
    "    df2 = pd.cut(df1, bins=[0, 999, 1999, 2999, 4999, 9999], labels=['very_small', 'small', 'medium', 'large', 'very_large'])\n",
    "    df3 = df2.value_counts()\n",
    "    print(df3)\n",
    "    \n",
    "solve()"
   ]
  },
  {
   "cell_type": "code",
   "execution_count": 98,
   "id": "7ea04657",
   "metadata": {},
   "outputs": [],
   "source": [
    "#Insert a column named 'price_euros' before column 'bed' converting the value in dollars from column 'price' to euros (1 Dollar = 0.95 Euro) (rounded to one decimal place)\n",
    "def solve():\n",
    "    df.insert(2,\"price_euros\",df['price']*0.95)\n",
    "    \n",
    "solve()\n",
    "print(df.head(3))"
   ]
  },
  {
   "cell_type": "code",
   "execution_count": 102,
   "id": "922b8576",
   "metadata": {},
   "outputs": [
    {
     "name": "stdout",
     "output_type": "stream",
     "text": [
      "        status     price  price_euros  bed  bath  acre_lot           city  \\\n",
      "6953      sold  60000000   57000000.0  9.0  10.0    400.00      Woodstock   \n",
      "854   for_sale  25000000   23750000.0  NaN   NaN    100.00        Isabela   \n",
      "2714  for_sale  24500000   23275000.0  NaN   NaN    618.36  Christiansted   \n",
      "\n",
      "               state  zip_code  house_size  sold_date  \n",
      "6953     Connecticut    6281.0     18777.0 2003-08-28  \n",
      "854      Puerto Rico     662.0         NaN        NaT  \n",
      "2714  Virgin Islands     820.0         NaN        NaT  \n"
     ]
    }
   ],
   "source": [
    "#Print the top 3 houses in 'price'.\n",
    "def solve():\n",
    "    print(df.sort_values('price',ascending=False).head(3))\n",
    "solve()"
   ]
  },
  {
   "cell_type": "code",
   "execution_count": null,
   "id": "fe8888cb",
   "metadata": {},
   "outputs": [],
   "source": []
  }
 ],
 "metadata": {
  "kernelspec": {
   "display_name": "Python 3 (ipykernel)",
   "language": "python",
   "name": "python3"
  },
  "language_info": {
   "codemirror_mode": {
    "name": "ipython",
    "version": 3
   },
   "file_extension": ".py",
   "mimetype": "text/x-python",
   "name": "python",
   "nbconvert_exporter": "python",
   "pygments_lexer": "ipython3",
   "version": "3.9.12"
  }
 },
 "nbformat": 4,
 "nbformat_minor": 5
}
