{
 "cells": [
  {
   "cell_type": "code",
   "execution_count": 55,
   "id": "0bd6f131",
   "metadata": {},
   "outputs": [],
   "source": [
    "import pandas as pd\n",
    "df = pd.read_csv('supermarket1.csv', sep=';')\n"
   ]
  },
  {
   "cell_type": "code",
   "execution_count": 6,
   "id": "cc435b58",
   "metadata": {},
   "outputs": [
    {
     "name": "stdout",
     "output_type": "stream",
     "text": [
      "    Invoice ID       City Customer type  Gender\n",
      "0  750-67-8428     Yangon        Member  Female\n",
      "1  226-31-3081  Naypyitaw        Normal  Female\n",
      "2  631-41-3108     Yangon        Member    Male\n"
     ]
    }
   ],
   "source": [
    "#Change the 'Customer type' in the third row from 'Normal' to 'Member'.\n",
    "def solve():\n",
    "    df.loc[2,'Customer type']='Member'\n",
    "solve()\n",
    "print(df.loc[:,'Invoice ID':'Gender'].head(3))"
   ]
  },
  {
   "cell_type": "code",
   "execution_count": 7,
   "id": "40fa8eaf",
   "metadata": {},
   "outputs": [
    {
     "name": "stdout",
     "output_type": "stream",
     "text": [
      "    Invoice ID       City\n",
      "0  750-67-8428     Yangon\n",
      "1  226-31-3081  Naypyitaw\n",
      "2  631-41-3108     Yangon\n"
     ]
    }
   ],
   "source": [
    "#Delete the column 'Customer type'.\n",
    "def solve2():\n",
    "    df.drop(columns='Customer type',inplace=True)\n",
    "\n",
    "solve2()\n",
    "print(df.loc[:,'Invoice ID':'City'].head(3))"
   ]
  },
  {
   "cell_type": "code",
   "execution_count": 25,
   "id": "30b6c1d5",
   "metadata": {},
   "outputs": [
    {
     "name": "stdout",
     "output_type": "stream",
     "text": [
      "    Customer type  Gender            Product line  Unit price\n",
      "80         Normal  Female       Health and beauty       99.19\n",
      "120        Normal  Female  Electronic accessories       99.56\n",
      "122        Member    Male       Sports and travel       99.96\n",
      "209        Normal  Female  Electronic accessories       99.73\n",
      "274        Normal  Female       Health and beauty       99.71\n",
      "283        Member    Male       Health and beauty       99.83\n",
      "315        Member    Male      Food and beverages       99.37\n",
      "326        Member    Male      Food and beverages       99.78\n",
      "382        Normal  Female      Food and beverages       99.69\n",
      "656        Normal  Female  Electronic accessories       99.69\n",
      "849        Normal  Female     Fashion accessories       99.10\n",
      "941        Member    Male     Fashion accessories       99.82\n"
     ]
    }
   ],
   "source": [
    "#Print the columns 'customer type' to 'Unit price' of the rows where the 'Customer type' is 'Member' and the 'Gender' is 'Male' or the 'Customer type' is 'Normal' and the 'Gender' is 'Female' and the 'Unit price' is greater than 99\n",
    "def solve3():\n",
    "    df2 = df[(((df['Customer type'] == 'Member') & (df['Gender']=='Male')) | ((df['Customer type'] == 'Normal') & (df['Gender']=='Female'))) & (df['Unit price'] > 99)]\n",
    "    print(df2.iloc[:, 2:6])\n",
    "solve3()"
   ]
  },
  {
   "cell_type": "code",
   "execution_count": 16,
   "id": "1300b78c",
   "metadata": {},
   "outputs": [
    {
     "name": "stdout",
     "output_type": "stream",
     "text": [
      "Fashion accessories       178\n",
      "Food and beverages        174\n",
      "Electronic accessories    170\n",
      "Sports and travel         166\n",
      "Home and lifestyle        160\n",
      "Health and beauty         152\n",
      "Name: Product line, dtype: int64\n"
     ]
    }
   ],
   "source": [
    "#Calculate the number of lines by 'Product line'.\n",
    "def solve4():\n",
    "    df1 = df['Product line'].value_counts()\n",
    "    print(df1)\n",
    "    \n",
    "solve4()"
   ]
  },
  {
   "cell_type": "code",
   "execution_count": 17,
   "id": "98a167da",
   "metadata": {},
   "outputs": [
    {
     "name": "stdout",
     "output_type": "stream",
     "text": [
      "low          454\n",
      "fair         264\n",
      "good         156\n",
      "very_good     96\n",
      "excellent     30\n",
      "Name: Total, dtype: int64\n"
     ]
    }
   ],
   "source": [
    "#Calculate the number of Invoices in each of the following 'Total' classes:\n",
    "def solve5():\n",
    "    df1 = df['Total']\n",
    "    df2 = pd.cut(df1, bins=[0, 220, 440, 660, 880, 1100], labels=['low', 'fair', 'good', 'very_good', 'excellent'])\n",
    "    df3 = df2.value_counts()\n",
    "    print(df3)\n",
    "    \n",
    "solve5()"
   ]
  },
  {
   "cell_type": "code",
   "execution_count": 18,
   "id": "e5ef0e87",
   "metadata": {},
   "outputs": [
    {
     "name": "stdout",
     "output_type": "stream",
     "text": [
      "Payment        Cash  Credit card   Ewallet\n",
      "City                                      \n",
      "Mandalay   35339.46     37344.86  33513.35\n",
      "Naypyitaw  43085.86     30327.46  37155.38\n",
      "Yangon     33781.25     33094.75  39324.37\n"
     ]
    }
   ],
   "source": [
    "#Print the rows between labels 0 and 2 and between columns 'Total' and 'Payment'.\n",
    "def solve6():\n",
    "    print(df.loc[0:2,'Total':'Payment'])\n",
    "    \n",
    "solve6()"
   ]
  },
  {
   "cell_type": "code",
   "execution_count": 19,
   "id": "ffd61c75",
   "metadata": {},
   "outputs": [
    {
     "name": "stdout",
     "output_type": "stream",
     "text": [
      "Female    50.1\n",
      "Male      49.9\n",
      "Name: Gender, dtype: float64\n"
     ]
    }
   ],
   "source": [
    "#Calculate the percentage of Female and Male customers.\n",
    "def solve7():\n",
    "    print(df['Gender'].value_counts().astype(float).div(len(df))*100)\n",
    "solve7()"
   ]
  },
  {
   "cell_type": "code",
   "execution_count": 27,
   "id": "540da568",
   "metadata": {},
   "outputs": [
    {
     "name": "stdout",
     "output_type": "stream",
     "text": [
      "    Invoice_ID Customer_type            Product_line  Unit_price   Tax_5%\n",
      "0  750-67-8428        Member       Health and beauty       74.69  26.1415\n",
      "1  226-31-3081        Normal  Electronic accessories       15.28   3.8200\n",
      "2  631-41-3108        Normal      Home and lifestyle       46.33  16.2155\n"
     ]
    }
   ],
   "source": [
    "#Replace the space in column names with an underscore.\n",
    "def solve8():\n",
    "    df.columns = df.columns.str.replace(' ', '_')\n",
    "    \n",
    "solve8()\n",
    "print(df.loc[:,['Invoice_ID','Customer_type','Product_line','Unit_price','Tax_5%']].head(3))"
   ]
  },
  {
   "cell_type": "code",
   "execution_count": 31,
   "id": "971f167c",
   "metadata": {},
   "outputs": [
    {
     "name": "stdout",
     "output_type": "stream",
     "text": [
      "Payment        Cash  Credit card   Ewallet\n",
      "City                                      \n",
      "Mandalay   35339.46     37344.86  33513.35\n",
      "Naypyitaw  43085.86     30327.46  37155.38\n",
      "Yangon     33781.25     33094.75  39324.37\n"
     ]
    }
   ],
   "source": [
    "#Calculate the invoices 'Total' by 'City' and type of 'Payment'. (rounded to two decimal places)\n",
    "def solve9():\n",
    "    pf=df.pivot_table(index='City',columns='Payment',values='Total',aggfunc='sum')\n",
    "    print(pf.round(2))\n",
    "solve9()"
   ]
  },
  {
   "cell_type": "code",
   "execution_count": 35,
   "id": "b728f717",
   "metadata": {},
   "outputs": [
    {
     "name": "stdout",
     "output_type": "stream",
     "text": [
      "            Product line  Unit price  Quantity  Tax 5%    Total\n",
      "167  Fashion accessories       98.98        10   49.49  1039.29\n",
      "350  Fashion accessories       99.30        10   49.65  1042.65\n",
      "557   Food and beverages       98.52        10   49.26  1034.46\n"
     ]
    }
   ],
   "source": [
    "#Print the columns 'Product line' to 'Total' of the rows where the 'Total' is greater than 1030.\n",
    "def solve10():\n",
    "    print(df.loc[df['Total']>1030,['Product line','Unit price','Quantity','Tax 5%','Total']])\n",
    "\n",
    "solve10()"
   ]
  },
  {
   "cell_type": "code",
   "execution_count": 36,
   "id": "4b121eca",
   "metadata": {},
   "outputs": [
    {
     "name": "stdout",
     "output_type": "stream",
     "text": [
      "count    1000.00\n",
      "mean      322.97\n",
      "std       245.89\n",
      "min        10.68\n",
      "25%       124.42\n",
      "50%       253.85\n",
      "75%       471.35\n",
      "max      1042.65\n",
      "Name: Total, dtype: float64\n"
     ]
    }
   ],
   "source": [
    "#Calculate a summary statistics of the column 'Total'. (rounded to two decimal places)\n",
    "def solve11():\n",
    "    print(df['Total'].describe().round(2))\n",
    "solve11()"
   ]
  },
  {
   "cell_type": "code",
   "execution_count": 40,
   "id": "e69272ee",
   "metadata": {},
   "outputs": [
    {
     "name": "stdout",
     "output_type": "stream",
     "text": [
      "335.1\n"
     ]
    }
   ],
   "source": [
    "#Calculate the mean of the Invoice 'Total' for Female customers. (rounded to one decimal place)\n",
    "def solve12():\n",
    "    print(round(df.loc[df['Gender']=='Female','Total'].mean(),1))\n",
    "solve12()"
   ]
  },
  {
   "cell_type": "code",
   "execution_count": 41,
   "id": "a0314685",
   "metadata": {},
   "outputs": [
    {
     "name": "stdout",
     "output_type": "stream",
     "text": [
      "                        Quantity\n",
      "Product line                    \n",
      "Electronic accessories       971\n",
      "Fashion accessories          902\n",
      "Food and beverages           952\n",
      "Health and beauty            854\n",
      "Home and lifestyle           911\n",
      "Sports and travel            920\n",
      "All                         5510\n"
     ]
    }
   ],
   "source": [
    "#Calculate the total number of units ('Quantity') sold by 'Product line' and the grand total of units sold.\n",
    "def solve13():\n",
    "    print(df.pivot_table(index='Product line',values='Quantity',aggfunc='sum',margins=True))\n",
    "solve13()"
   ]
  },
  {
   "cell_type": "code",
   "execution_count": 43,
   "id": "fd1b09d3",
   "metadata": {},
   "outputs": [
    {
     "name": "stdout",
     "output_type": "stream",
     "text": [
      "    Invoice ID       City Customer type  Gender            Product line\n",
      "1  226-31-3081  Naypyitaw        Normal  Female  Electronic accessories\n",
      "5  699-14-3026  Naypyitaw        Normal    Male  Electronic accessories\n",
      "7  315-22-5665  Naypyitaw        Normal  Female      Home and lifestyle\n"
     ]
    }
   ],
   "source": [
    "#Delete the rows corresponding to 'City' 'Yangon'.\n",
    "def solve14():\n",
    "    df.drop(df[df['City'] == 'Yangon'].index, inplace=True)\n",
    "solve14()\n",
    "print(df.loc[:,'Invoice ID':'Product line'].head(3))"
   ]
  },
  {
   "cell_type": "code",
   "execution_count": 44,
   "id": "11c3bda0",
   "metadata": {},
   "outputs": [
    {
     "name": "stdout",
     "output_type": "stream",
     "text": [
      "Naypyitaw, Food and beverages, 23766.86\n"
     ]
    }
   ],
   "source": [
    "#Print the 'city', the 'Product line' and the value (rounded to two decimal places) corresponding to the maximum sum of the invoices ('Total') by 'Product line' and 'City'\n",
    "def solve15():\n",
    "    pr=df.groupby(['City','Product line'])['Total'].sum().round(2)\n",
    "    max=pr.max()\n",
    "    city=pr.idxmax()[0]\n",
    "    product=pr.idxmax()[1]\n",
    "    print(f\"{city}, {product}, {max}\") \n",
    "solve15()\n",
    "    "
   ]
  },
  {
   "cell_type": "code",
   "execution_count": 47,
   "id": "55384e8b",
   "metadata": {},
   "outputs": [
    {
     "name": "stdout",
     "output_type": "stream",
     "text": [
      "    Invoice ID     Total\n",
      "0  750-67-8428  548.9715\n",
      "2  631-41-3108  340.5255\n"
     ]
    }
   ],
   "source": [
    "#Print the values from columns 'Invoice ID' and 'Total' from row 0 and 2.\n",
    "def solve16():\n",
    "    print(df.loc[[0,2],['Invoice ID','Total']])\n",
    "    \n",
    "solve16()"
   ]
  },
  {
   "cell_type": "code",
   "execution_count": 58,
   "id": "c3525cb9",
   "metadata": {},
   "outputs": [
    {
     "name": "stdout",
     "output_type": "stream",
     "text": [
      "Customer type  Member  Normal   All\n",
      "City                               \n",
      "Mandalay          165     167   332\n",
      "Naypyitaw         169     159   328\n",
      "Yangon            167     173   340\n",
      "All               501     499  1000\n"
     ]
    }
   ],
   "source": [
    "#Create a table with the number of invoices by 'City' and 'Customer type' with totals by row and by column.\n",
    "def solve17():\n",
    "    print(df.pivot_table(index='City',columns='Customer type',values='Invoice ID',aggfunc='count',margins=True))\n",
    "\n",
    "solve17()"
   ]
  },
  {
   "cell_type": "code",
   "execution_count": 56,
   "id": "881255d0",
   "metadata": {},
   "outputs": [
    {
     "name": "stdout",
     "output_type": "stream",
     "text": [
      "   Unit price  Quantity   Tax 5%     Total\n",
      "0       74.69         7  26.1415  548.9715\n",
      "1       15.28         5   3.8200   80.2200\n",
      "2       46.33         7  16.2155  340.5255\n"
     ]
    }
   ],
   "source": [
    "#Insert a column named 'QxPrice' before column 'Tax 5%' equal to the column 'Unit Price' times the column 'Quantity'.\n",
    "def solve18():\n",
    "    df.insert(7, 'QxPrice', df['Unit price'] * df['Quantity'])\n",
    "print(df.loc[0:2,'Unit price':'Total'])\n",
    "solve18()"
   ]
  },
  {
   "cell_type": "code",
   "execution_count": null,
   "id": "be390e65",
   "metadata": {},
   "outputs": [],
   "source": []
  }
 ],
 "metadata": {
  "kernelspec": {
   "display_name": "Python 3 (ipykernel)",
   "language": "python",
   "name": "python3"
  },
  "language_info": {
   "codemirror_mode": {
    "name": "ipython",
    "version": 3
   },
   "file_extension": ".py",
   "mimetype": "text/x-python",
   "name": "python",
   "nbconvert_exporter": "python",
   "pygments_lexer": "ipython3",
   "version": "3.9.12"
  }
 },
 "nbformat": 4,
 "nbformat_minor": 5
}
