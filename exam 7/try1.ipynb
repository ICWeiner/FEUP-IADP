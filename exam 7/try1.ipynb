{
 "cells": [
  {
   "cell_type": "code",
   "execution_count": 43,
   "id": "677c9ad5",
   "metadata": {},
   "outputs": [],
   "source": [
    "import pandas as pd\n",
    "df = pd.read_csv('f1_1.csv',encoding='utf-8',parse_dates=['dob','date'])\n",
    "\n"
   ]
  },
  {
   "cell_type": "code",
   "execution_count": 12,
   "id": "b83b15f0",
   "metadata": {},
   "outputs": [
    {
     "name": "stdout",
     "output_type": "stream",
     "text": [
      "              name        dob nationality  race_id  position  points\n",
      "3  Fernando Alonso 1981-07-29     Spanish       18       4.0     5.0\n",
      "5  Kazuki Nakajima 1985-01-11    Japanese       18       6.0     3.0\n",
      "7   Kimi Räikkönen 1979-10-17     Finnish       18       8.0     1.0\n"
     ]
    }
   ],
   "source": [
    "#Print the values from columns 'name' to 'points' from rows 3, 5 and 7.\n",
    "def solve():\n",
    "    print(df[['name','dob','nationality','race_id','position','points']].loc[3:8:2])\n",
    "\n",
    "solve()"
   ]
  },
  {
   "cell_type": "code",
   "execution_count": 13,
   "id": "fc767c42",
   "metadata": {},
   "outputs": [],
   "source": [
    "#Change in row 2 the 'status' to 'Engine' and the 'points' to 0.\n",
    "def solve():\n",
    "    df.loc[2,'status'] = 'Engine'\n",
    "    df.loc[2,'points'] = 0\n",
    "    \n",
    "solve()"
   ]
  },
  {
   "cell_type": "code",
   "execution_count": 18,
   "id": "6bf10549",
   "metadata": {},
   "outputs": [],
   "source": [
    "#Delete the columns 'code', 'fastest_lap_speed' and 'race'.\n",
    "\n",
    "def solve():\n",
    "    df.drop(columns=['code','fastest_lap_speed','race'],inplace=True)"
   ]
  },
  {
   "cell_type": "code",
   "execution_count": 28,
   "id": "f18259de",
   "metadata": {},
   "outputs": [
    {
     "name": "stdout",
     "output_type": "stream",
     "text": [
      "                    name                race  fastest_lap_speed\n",
      "2800  Rubens Barrichello  Italian Grand Prix              257.3\n"
     ]
    }
   ],
   "source": [
    "#Find the 'name' of the driver and the 'race' corresponding to the maximum 'fastest_lap_speed'. (rounded to one decimal place).\n",
    "\n",
    "def solve():\n",
    "    print(df.loc[df['fastest_lap_speed'] == df['fastest_lap_speed'].max(),['name','race','fastest_lap_speed']].round(1))\n",
    "\n",
    "solve()"
   ]
  },
  {
   "cell_type": "code",
   "execution_count": 38,
   "id": "865bad1d",
   "metadata": {},
   "outputs": [
    {
     "name": "stdout",
     "output_type": "stream",
     "text": [
      "82.6\n"
     ]
    }
   ],
   "source": [
    "#What is the percentage of races where 'Lewis Hamilton' has a 'status' of 'Finished' (rounded to one decimal place)\n",
    "\n",
    "def solve():\n",
    "    print(round(df.loc[ (df['name'] == 'Lewis Hamilton') & (df['status'] == 'Finished')].index.values.size/len(df.loc[df['name'] == 'Lewis Hamilton'])*100,1))\n",
    "    \n",
    "solve()"
   ]
  },
  {
   "cell_type": "code",
   "execution_count": 44,
   "id": "98e49581",
   "metadata": {},
   "outputs": [],
   "source": [
    "#Delete the rows corresponding to the driver 'Lewis Hamilton'.\n",
    "\n",
    "def solve():\n",
    "    df.drop(df[df['name'] == 'Lewis Hamilton'].index,inplace=True) \n",
    "    \n",
    "solve()"
   ]
  },
  {
   "cell_type": "code",
   "execution_count": 83,
   "id": "f3ac1990",
   "metadata": {},
   "outputs": [
    {
     "name": "stdout",
     "output_type": "stream",
     "text": [
      "[list(['Nick', 'Heidfeld']) list(['Nico', 'Rosberg'])\n",
      " list(['Fernando', 'Alonso']) ... list(['Mika', 'Salo'])\n",
      " list(['Pedro', 'Diniz']) list(['Johnny', 'Herbert'])]\n"
     ]
    }
   ],
   "source": [
    "def solve():\n",
    "    #df.insert(2,\"surname\",df['name'].str.split()[1])\n",
    "    print(df['name'].str.split().values)\n",
    "    \n",
    "solve()"
   ]
  },
  {
   "cell_type": "code",
   "execution_count": null,
   "id": "a1ac03cd",
   "metadata": {},
   "outputs": [],
   "source": []
  }
 ],
 "metadata": {
  "kernelspec": {
   "display_name": "Python 3 (ipykernel)",
   "language": "python",
   "name": "python3"
  },
  "language_info": {
   "codemirror_mode": {
    "name": "ipython",
    "version": 3
   },
   "file_extension": ".py",
   "mimetype": "text/x-python",
   "name": "python",
   "nbconvert_exporter": "python",
   "pygments_lexer": "ipython3",
   "version": "3.9.12"
  }
 },
 "nbformat": 4,
 "nbformat_minor": 5
}
