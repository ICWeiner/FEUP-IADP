{
 "cells": [
  {
   "cell_type": "code",
   "execution_count": 6,
   "id": "592af110",
   "metadata": {},
   "outputs": [],
   "source": [
    "import pandas as pd\n",
    "df = pd.read_csv('f1_1.csv',encoding='utf-8',parse_dates=['dob','date'])\n"
   ]
  },
  {
   "cell_type": "code",
   "execution_count": 2,
   "id": "2e5e9189",
   "metadata": {},
   "outputs": [
    {
     "name": "stdout",
     "output_type": "stream",
     "text": [
      "              name        dob nationality  race_id  position  points\n",
      "3  Fernando Alonso 1981-07-29     Spanish       18       4.0     5.0\n",
      "5  Kazuki Nakajima 1985-01-11    Japanese       18       6.0     3.0\n",
      "7   Kimi Räikkönen 1979-10-17     Finnish       18       8.0     1.0\n"
     ]
    }
   ],
   "source": [
    "def solve():\n",
    "    print(df[['name','dob','nationality','race_id','position','points']].loc[3:8:2])\n",
    "    \n",
    "solve()"
   ]
  },
  {
   "cell_type": "code",
   "execution_count": 3,
   "id": "2bc4ab89",
   "metadata": {},
   "outputs": [],
   "source": [
    "def solve():\n",
    "    df.loc[2,'status'] = 'Engine'\n",
    "    df.loc[2,'points'] = 0\n",
    "    \n",
    "solve()"
   ]
  },
  {
   "cell_type": "code",
   "execution_count": 5,
   "id": "96749620",
   "metadata": {},
   "outputs": [],
   "source": [
    "def solve():\n",
    "    df.drop(columns =['code','fastest_lap_speed','race'],inplace=True)\n",
    "    \n",
    "solve()"
   ]
  },
  {
   "cell_type": "code",
   "execution_count": 23,
   "id": "b9e1188f",
   "metadata": {},
   "outputs": [],
   "source": [
    "def solve():\n",
    "    df['fastest_lap_speed'].max()\n",
    "    \n",
    "solve()"
   ]
  },
  {
   "cell_type": "code",
   "execution_count": null,
   "id": "3405ef40",
   "metadata": {},
   "outputs": [],
   "source": []
  }
 ],
 "metadata": {
  "kernelspec": {
   "display_name": "Python 3 (ipykernel)",
   "language": "python",
   "name": "python3"
  },
  "language_info": {
   "codemirror_mode": {
    "name": "ipython",
    "version": 3
   },
   "file_extension": ".py",
   "mimetype": "text/x-python",
   "name": "python",
   "nbconvert_exporter": "python",
   "pygments_lexer": "ipython3",
   "version": "3.9.12"
  }
 },
 "nbformat": 4,
 "nbformat_minor": 5
}
